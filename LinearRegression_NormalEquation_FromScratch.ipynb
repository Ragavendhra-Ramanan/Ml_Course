{
  "nbformat": 4,
  "nbformat_minor": 0,
  "metadata": {
    "colab": {
      "provenance": [],
      "authorship_tag": "ABX9TyN7xJSVrXhor2l+hD0HxmEV",
      "include_colab_link": true
    },
    "kernelspec": {
      "name": "python3",
      "display_name": "Python 3"
    },
    "language_info": {
      "name": "python"
    }
  },
  "cells": [
    {
      "cell_type": "markdown",
      "metadata": {
        "id": "view-in-github",
        "colab_type": "text"
      },
      "source": [
        "<a href=\"https://colab.research.google.com/github/Ragavendhra-Ramanan/Ml_Course/blob/main/LinearRegression_NormalEquation_FromScratch.ipynb\" target=\"_parent\"><img src=\"https://colab.research.google.com/assets/colab-badge.svg\" alt=\"Open In Colab\"/></a>"
      ]
    },
    {
      "cell_type": "markdown",
      "source": [
        "# **Problem Statement**"
      ],
      "metadata": {
        "id": "mQ3P5GeTrhYO"
      }
    },
    {
      "cell_type": "code",
      "execution_count": 22,
      "metadata": {
        "colab": {
          "base_uri": "https://localhost:8080/"
        },
        "id": "_b6kAE4Zp5nR",
        "outputId": "055c112c-0cdc-4fd3-ae52-fd403e206634"
      },
      "outputs": [
        {
          "output_type": "stream",
          "name": "stdout",
          "text": [
            "--2023-09-24 10:36:45--  https://raw.githubusercontent.com/alexeygrigorev/datasets/master/housing.csv\n",
            "Resolving raw.githubusercontent.com (raw.githubusercontent.com)... 185.199.108.133, 185.199.109.133, 185.199.110.133, ...\n",
            "Connecting to raw.githubusercontent.com (raw.githubusercontent.com)|185.199.108.133|:443... connected.\n",
            "HTTP request sent, awaiting response... 200 OK\n",
            "Length: 1423529 (1.4M) [text/plain]\n",
            "Saving to: ‘housing.csv.1’\n",
            "\n",
            "\rhousing.csv.1         0%[                    ]       0  --.-KB/s               \rhousing.csv.1       100%[===================>]   1.36M  --.-KB/s    in 0.07s   \n",
            "\n",
            "2023-09-24 10:36:45 (18.7 MB/s) - ‘housing.csv.1’ saved [1423529/1423529]\n",
            "\n"
          ]
        }
      ],
      "source": [
        "!wget https://raw.githubusercontent.com/alexeygrigorev/datasets/master/housing.csv"
      ]
    },
    {
      "cell_type": "markdown",
      "source": [
        "* In this homework, we will use the California Housing Prices.\n",
        "* The goal of this homework is to create a regression model for predicting housing prices (column 'median_house_value')."
      ],
      "metadata": {
        "id": "k_CNFcnfrpcw"
      }
    },
    {
      "cell_type": "markdown",
      "source": [
        "#**Loading Data**"
      ],
      "metadata": {
        "id": "yj5SRVW4rwT6"
      }
    },
    {
      "cell_type": "code",
      "source": [
        "import pandas as pd\n",
        "import matplotlib.pyplot as plt\n",
        "import seaborn as sns\n",
        "import numpy as np"
      ],
      "metadata": {
        "id": "-IQoc6h9r54d"
      },
      "execution_count": 23,
      "outputs": []
    },
    {
      "cell_type": "code",
      "source": [
        "df=pd.read_csv('housing.csv')"
      ],
      "metadata": {
        "id": "i3wixHqOrYug"
      },
      "execution_count": 24,
      "outputs": []
    },
    {
      "cell_type": "code",
      "source": [
        "df.shape"
      ],
      "metadata": {
        "colab": {
          "base_uri": "https://localhost:8080/"
        },
        "id": "r6P-96ivuVNr",
        "outputId": "9b8fb2e3-b078-441f-d732-64d9cc903140"
      },
      "execution_count": 25,
      "outputs": [
        {
          "output_type": "execute_result",
          "data": {
            "text/plain": [
              "(20640, 10)"
            ]
          },
          "metadata": {},
          "execution_count": 25
        }
      ]
    },
    {
      "cell_type": "code",
      "source": [
        "df.head()"
      ],
      "metadata": {
        "colab": {
          "base_uri": "https://localhost:8080/",
          "height": 226
        },
        "id": "YzbIcoTcr8UW",
        "outputId": "f57deb48-975e-4431-8062-931e4d0cef5f"
      },
      "execution_count": 26,
      "outputs": [
        {
          "output_type": "execute_result",
          "data": {
            "text/plain": [
              "   longitude  latitude  housing_median_age  total_rooms  total_bedrooms  \\\n",
              "0    -122.23     37.88                41.0        880.0           129.0   \n",
              "1    -122.22     37.86                21.0       7099.0          1106.0   \n",
              "2    -122.24     37.85                52.0       1467.0           190.0   \n",
              "3    -122.25     37.85                52.0       1274.0           235.0   \n",
              "4    -122.25     37.85                52.0       1627.0           280.0   \n",
              "\n",
              "   population  households  median_income  median_house_value ocean_proximity  \n",
              "0       322.0       126.0         8.3252            452600.0        NEAR BAY  \n",
              "1      2401.0      1138.0         8.3014            358500.0        NEAR BAY  \n",
              "2       496.0       177.0         7.2574            352100.0        NEAR BAY  \n",
              "3       558.0       219.0         5.6431            341300.0        NEAR BAY  \n",
              "4       565.0       259.0         3.8462            342200.0        NEAR BAY  "
            ],
            "text/html": [
              "\n",
              "  <div id=\"df-1a930fd1-f8bf-48f2-84fd-f5cc46599a6d\" class=\"colab-df-container\">\n",
              "    <div>\n",
              "<style scoped>\n",
              "    .dataframe tbody tr th:only-of-type {\n",
              "        vertical-align: middle;\n",
              "    }\n",
              "\n",
              "    .dataframe tbody tr th {\n",
              "        vertical-align: top;\n",
              "    }\n",
              "\n",
              "    .dataframe thead th {\n",
              "        text-align: right;\n",
              "    }\n",
              "</style>\n",
              "<table border=\"1\" class=\"dataframe\">\n",
              "  <thead>\n",
              "    <tr style=\"text-align: right;\">\n",
              "      <th></th>\n",
              "      <th>longitude</th>\n",
              "      <th>latitude</th>\n",
              "      <th>housing_median_age</th>\n",
              "      <th>total_rooms</th>\n",
              "      <th>total_bedrooms</th>\n",
              "      <th>population</th>\n",
              "      <th>households</th>\n",
              "      <th>median_income</th>\n",
              "      <th>median_house_value</th>\n",
              "      <th>ocean_proximity</th>\n",
              "    </tr>\n",
              "  </thead>\n",
              "  <tbody>\n",
              "    <tr>\n",
              "      <th>0</th>\n",
              "      <td>-122.23</td>\n",
              "      <td>37.88</td>\n",
              "      <td>41.0</td>\n",
              "      <td>880.0</td>\n",
              "      <td>129.0</td>\n",
              "      <td>322.0</td>\n",
              "      <td>126.0</td>\n",
              "      <td>8.3252</td>\n",
              "      <td>452600.0</td>\n",
              "      <td>NEAR BAY</td>\n",
              "    </tr>\n",
              "    <tr>\n",
              "      <th>1</th>\n",
              "      <td>-122.22</td>\n",
              "      <td>37.86</td>\n",
              "      <td>21.0</td>\n",
              "      <td>7099.0</td>\n",
              "      <td>1106.0</td>\n",
              "      <td>2401.0</td>\n",
              "      <td>1138.0</td>\n",
              "      <td>8.3014</td>\n",
              "      <td>358500.0</td>\n",
              "      <td>NEAR BAY</td>\n",
              "    </tr>\n",
              "    <tr>\n",
              "      <th>2</th>\n",
              "      <td>-122.24</td>\n",
              "      <td>37.85</td>\n",
              "      <td>52.0</td>\n",
              "      <td>1467.0</td>\n",
              "      <td>190.0</td>\n",
              "      <td>496.0</td>\n",
              "      <td>177.0</td>\n",
              "      <td>7.2574</td>\n",
              "      <td>352100.0</td>\n",
              "      <td>NEAR BAY</td>\n",
              "    </tr>\n",
              "    <tr>\n",
              "      <th>3</th>\n",
              "      <td>-122.25</td>\n",
              "      <td>37.85</td>\n",
              "      <td>52.0</td>\n",
              "      <td>1274.0</td>\n",
              "      <td>235.0</td>\n",
              "      <td>558.0</td>\n",
              "      <td>219.0</td>\n",
              "      <td>5.6431</td>\n",
              "      <td>341300.0</td>\n",
              "      <td>NEAR BAY</td>\n",
              "    </tr>\n",
              "    <tr>\n",
              "      <th>4</th>\n",
              "      <td>-122.25</td>\n",
              "      <td>37.85</td>\n",
              "      <td>52.0</td>\n",
              "      <td>1627.0</td>\n",
              "      <td>280.0</td>\n",
              "      <td>565.0</td>\n",
              "      <td>259.0</td>\n",
              "      <td>3.8462</td>\n",
              "      <td>342200.0</td>\n",
              "      <td>NEAR BAY</td>\n",
              "    </tr>\n",
              "  </tbody>\n",
              "</table>\n",
              "</div>\n",
              "    <div class=\"colab-df-buttons\">\n",
              "\n",
              "  <div class=\"colab-df-container\">\n",
              "    <button class=\"colab-df-convert\" onclick=\"convertToInteractive('df-1a930fd1-f8bf-48f2-84fd-f5cc46599a6d')\"\n",
              "            title=\"Convert this dataframe to an interactive table.\"\n",
              "            style=\"display:none;\">\n",
              "\n",
              "  <svg xmlns=\"http://www.w3.org/2000/svg\" height=\"24px\" viewBox=\"0 -960 960 960\">\n",
              "    <path d=\"M120-120v-720h720v720H120Zm60-500h600v-160H180v160Zm220 220h160v-160H400v160Zm0 220h160v-160H400v160ZM180-400h160v-160H180v160Zm440 0h160v-160H620v160ZM180-180h160v-160H180v160Zm440 0h160v-160H620v160Z\"/>\n",
              "  </svg>\n",
              "    </button>\n",
              "\n",
              "  <style>\n",
              "    .colab-df-container {\n",
              "      display:flex;\n",
              "      gap: 12px;\n",
              "    }\n",
              "\n",
              "    .colab-df-convert {\n",
              "      background-color: #E8F0FE;\n",
              "      border: none;\n",
              "      border-radius: 50%;\n",
              "      cursor: pointer;\n",
              "      display: none;\n",
              "      fill: #1967D2;\n",
              "      height: 32px;\n",
              "      padding: 0 0 0 0;\n",
              "      width: 32px;\n",
              "    }\n",
              "\n",
              "    .colab-df-convert:hover {\n",
              "      background-color: #E2EBFA;\n",
              "      box-shadow: 0px 1px 2px rgba(60, 64, 67, 0.3), 0px 1px 3px 1px rgba(60, 64, 67, 0.15);\n",
              "      fill: #174EA6;\n",
              "    }\n",
              "\n",
              "    .colab-df-buttons div {\n",
              "      margin-bottom: 4px;\n",
              "    }\n",
              "\n",
              "    [theme=dark] .colab-df-convert {\n",
              "      background-color: #3B4455;\n",
              "      fill: #D2E3FC;\n",
              "    }\n",
              "\n",
              "    [theme=dark] .colab-df-convert:hover {\n",
              "      background-color: #434B5C;\n",
              "      box-shadow: 0px 1px 3px 1px rgba(0, 0, 0, 0.15);\n",
              "      filter: drop-shadow(0px 1px 2px rgba(0, 0, 0, 0.3));\n",
              "      fill: #FFFFFF;\n",
              "    }\n",
              "  </style>\n",
              "\n",
              "    <script>\n",
              "      const buttonEl =\n",
              "        document.querySelector('#df-1a930fd1-f8bf-48f2-84fd-f5cc46599a6d button.colab-df-convert');\n",
              "      buttonEl.style.display =\n",
              "        google.colab.kernel.accessAllowed ? 'block' : 'none';\n",
              "\n",
              "      async function convertToInteractive(key) {\n",
              "        const element = document.querySelector('#df-1a930fd1-f8bf-48f2-84fd-f5cc46599a6d');\n",
              "        const dataTable =\n",
              "          await google.colab.kernel.invokeFunction('convertToInteractive',\n",
              "                                                    [key], {});\n",
              "        if (!dataTable) return;\n",
              "\n",
              "        const docLinkHtml = 'Like what you see? Visit the ' +\n",
              "          '<a target=\"_blank\" href=https://colab.research.google.com/notebooks/data_table.ipynb>data table notebook</a>'\n",
              "          + ' to learn more about interactive tables.';\n",
              "        element.innerHTML = '';\n",
              "        dataTable['output_type'] = 'display_data';\n",
              "        await google.colab.output.renderOutput(dataTable, element);\n",
              "        const docLink = document.createElement('div');\n",
              "        docLink.innerHTML = docLinkHtml;\n",
              "        element.appendChild(docLink);\n",
              "      }\n",
              "    </script>\n",
              "  </div>\n",
              "\n",
              "\n",
              "<div id=\"df-ebef0da9-c0b4-4b67-8b11-4a5b7c3bac78\">\n",
              "  <button class=\"colab-df-quickchart\" onclick=\"quickchart('df-ebef0da9-c0b4-4b67-8b11-4a5b7c3bac78')\"\n",
              "            title=\"Suggest charts.\"\n",
              "            style=\"display:none;\">\n",
              "\n",
              "<svg xmlns=\"http://www.w3.org/2000/svg\" height=\"24px\"viewBox=\"0 0 24 24\"\n",
              "     width=\"24px\">\n",
              "    <g>\n",
              "        <path d=\"M19 3H5c-1.1 0-2 .9-2 2v14c0 1.1.9 2 2 2h14c1.1 0 2-.9 2-2V5c0-1.1-.9-2-2-2zM9 17H7v-7h2v7zm4 0h-2V7h2v10zm4 0h-2v-4h2v4z\"/>\n",
              "    </g>\n",
              "</svg>\n",
              "  </button>\n",
              "\n",
              "<style>\n",
              "  .colab-df-quickchart {\n",
              "      --bg-color: #E8F0FE;\n",
              "      --fill-color: #1967D2;\n",
              "      --hover-bg-color: #E2EBFA;\n",
              "      --hover-fill-color: #174EA6;\n",
              "      --disabled-fill-color: #AAA;\n",
              "      --disabled-bg-color: #DDD;\n",
              "  }\n",
              "\n",
              "  [theme=dark] .colab-df-quickchart {\n",
              "      --bg-color: #3B4455;\n",
              "      --fill-color: #D2E3FC;\n",
              "      --hover-bg-color: #434B5C;\n",
              "      --hover-fill-color: #FFFFFF;\n",
              "      --disabled-bg-color: #3B4455;\n",
              "      --disabled-fill-color: #666;\n",
              "  }\n",
              "\n",
              "  .colab-df-quickchart {\n",
              "    background-color: var(--bg-color);\n",
              "    border: none;\n",
              "    border-radius: 50%;\n",
              "    cursor: pointer;\n",
              "    display: none;\n",
              "    fill: var(--fill-color);\n",
              "    height: 32px;\n",
              "    padding: 0;\n",
              "    width: 32px;\n",
              "  }\n",
              "\n",
              "  .colab-df-quickchart:hover {\n",
              "    background-color: var(--hover-bg-color);\n",
              "    box-shadow: 0 1px 2px rgba(60, 64, 67, 0.3), 0 1px 3px 1px rgba(60, 64, 67, 0.15);\n",
              "    fill: var(--button-hover-fill-color);\n",
              "  }\n",
              "\n",
              "  .colab-df-quickchart-complete:disabled,\n",
              "  .colab-df-quickchart-complete:disabled:hover {\n",
              "    background-color: var(--disabled-bg-color);\n",
              "    fill: var(--disabled-fill-color);\n",
              "    box-shadow: none;\n",
              "  }\n",
              "\n",
              "  .colab-df-spinner {\n",
              "    border: 2px solid var(--fill-color);\n",
              "    border-color: transparent;\n",
              "    border-bottom-color: var(--fill-color);\n",
              "    animation:\n",
              "      spin 1s steps(1) infinite;\n",
              "  }\n",
              "\n",
              "  @keyframes spin {\n",
              "    0% {\n",
              "      border-color: transparent;\n",
              "      border-bottom-color: var(--fill-color);\n",
              "      border-left-color: var(--fill-color);\n",
              "    }\n",
              "    20% {\n",
              "      border-color: transparent;\n",
              "      border-left-color: var(--fill-color);\n",
              "      border-top-color: var(--fill-color);\n",
              "    }\n",
              "    30% {\n",
              "      border-color: transparent;\n",
              "      border-left-color: var(--fill-color);\n",
              "      border-top-color: var(--fill-color);\n",
              "      border-right-color: var(--fill-color);\n",
              "    }\n",
              "    40% {\n",
              "      border-color: transparent;\n",
              "      border-right-color: var(--fill-color);\n",
              "      border-top-color: var(--fill-color);\n",
              "    }\n",
              "    60% {\n",
              "      border-color: transparent;\n",
              "      border-right-color: var(--fill-color);\n",
              "    }\n",
              "    80% {\n",
              "      border-color: transparent;\n",
              "      border-right-color: var(--fill-color);\n",
              "      border-bottom-color: var(--fill-color);\n",
              "    }\n",
              "    90% {\n",
              "      border-color: transparent;\n",
              "      border-bottom-color: var(--fill-color);\n",
              "    }\n",
              "  }\n",
              "</style>\n",
              "\n",
              "  <script>\n",
              "    async function quickchart(key) {\n",
              "      const quickchartButtonEl =\n",
              "        document.querySelector('#' + key + ' button');\n",
              "      quickchartButtonEl.disabled = true;  // To prevent multiple clicks.\n",
              "      quickchartButtonEl.classList.add('colab-df-spinner');\n",
              "      try {\n",
              "        const charts = await google.colab.kernel.invokeFunction(\n",
              "            'suggestCharts', [key], {});\n",
              "      } catch (error) {\n",
              "        console.error('Error during call to suggestCharts:', error);\n",
              "      }\n",
              "      quickchartButtonEl.classList.remove('colab-df-spinner');\n",
              "      quickchartButtonEl.classList.add('colab-df-quickchart-complete');\n",
              "    }\n",
              "    (() => {\n",
              "      let quickchartButtonEl =\n",
              "        document.querySelector('#df-ebef0da9-c0b4-4b67-8b11-4a5b7c3bac78 button');\n",
              "      quickchartButtonEl.style.display =\n",
              "        google.colab.kernel.accessAllowed ? 'block' : 'none';\n",
              "    })();\n",
              "  </script>\n",
              "</div>\n",
              "    </div>\n",
              "  </div>\n"
            ]
          },
          "metadata": {},
          "execution_count": 26
        }
      ]
    },
    {
      "cell_type": "markdown",
      "source": [
        "# **EDA**"
      ],
      "metadata": {
        "id": "dB98zS9FsIpQ"
      }
    },
    {
      "cell_type": "code",
      "source": [
        "sns.histplot(data=df,x='median_house_value')\n",
        "plt.show()"
      ],
      "metadata": {
        "colab": {
          "base_uri": "https://localhost:8080/",
          "height": 450
        },
        "id": "m9dwsBv2r9Hc",
        "outputId": "edea0ccf-26ae-40c4-e4f4-1a2aa767e811"
      },
      "execution_count": 27,
      "outputs": [
        {
          "output_type": "display_data",
          "data": {
            "text/plain": [
              "<Figure size 640x480 with 1 Axes>"
            ],
            "image/png": "[encoded data removed]"
          },
          "metadata": {}
        }
      ]
    },
    {
      "cell_type": "markdown",
      "source": [
        "* The data is skewed towards right .Hence taking Log Transformation for the same ."
      ],
      "metadata": {
        "id": "NJBa2sahsh57"
      }
    },
    {
      "cell_type": "code",
      "source": [
        "df['log_median_house_value']=np.log1p(df['median_house_value'].values)"
      ],
      "metadata": {
        "id": "MZbMXTNisZTz"
      },
      "execution_count": 28,
      "outputs": []
    },
    {
      "cell_type": "code",
      "source": [
        "sns.histplot(data=df,x='log_median_house_value')\n",
        "plt.show()"
      ],
      "metadata": {
        "colab": {
          "base_uri": "https://localhost:8080/",
          "height": 450
        },
        "id": "-97x7z8Qs5lQ",
        "outputId": "980eecea-e590-4f90-e2ce-9402234db71f"
      },
      "execution_count": 29,
      "outputs": [
        {
          "output_type": "display_data",
          "data": {
            "text/plain": [
              "<Figure size 640x480 with 1 Axes>"
            ],
            "image/png": "[encoded data removed]"
          },
          "metadata": {}
        }
      ]
    },
    {
      "cell_type": "markdown",
      "source": [
        "* Now the median house value appears slightly close to normal distribution."
      ],
      "metadata": {
        "id": "38uKZXb3tIQ5"
      }
    },
    {
      "cell_type": "markdown",
      "source": [
        "# **Preparing Dataset**"
      ],
      "metadata": {
        "id": "iJ2yf0pktUc6"
      }
    },
    {
      "cell_type": "markdown",
      "source": [
        "* Selecting only subset of columns"
      ],
      "metadata": {
        "id": "fIWV1mA9tdbq"
      }
    },
    {
      "cell_type": "code",
      "source": [
        "features=['latitude',\n",
        "'longitude',\n",
        "'housing_median_age',\n",
        "'total_rooms',\n",
        "'total_bedrooms',\n",
        "'population',\n",
        "'households',\n",
        "'median_income',\n",
        "'log_median_house_value']\n",
        "rows_filter=df['ocean_proximity'].isin(('<1H OCEAN','INLAND'))"
      ],
      "metadata": {
        "id": "tgQ0dyR3s_lO"
      },
      "execution_count": 30,
      "outputs": []
    },
    {
      "cell_type": "code",
      "source": [
        "data=df[rows_filter][features]"
      ],
      "metadata": {
        "id": "j_XSPM3ntzpi"
      },
      "execution_count": 31,
      "outputs": []
    },
    {
      "cell_type": "code",
      "source": [
        "data.shape"
      ],
      "metadata": {
        "colab": {
          "base_uri": "https://localhost:8080/"
        },
        "id": "N6BCLnKtt7al",
        "outputId": "8196f131-2738-441c-8ad6-8a729452bc97"
      },
      "execution_count": 32,
      "outputs": [
        {
          "output_type": "execute_result",
          "data": {
            "text/plain": [
              "(15687, 9)"
            ]
          },
          "metadata": {},
          "execution_count": 32
        }
      ]
    },
    {
      "cell_type": "markdown",
      "source": [
        "# **Check for Missing Values**"
      ],
      "metadata": {
        "id": "xkY26ChHulNv"
      }
    },
    {
      "cell_type": "markdown",
      "source": [
        "01. There's one feature with missing values. What is it?\n",
        "\n"
      ],
      "metadata": {
        "id": "58EC4jQOujXW"
      }
    },
    {
      "cell_type": "code",
      "source": [
        "data.isnull().sum()"
      ],
      "metadata": {
        "colab": {
          "base_uri": "https://localhost:8080/"
        },
        "id": "2IqfHiMluLej",
        "outputId": "daf96b34-24e2-4c0b-e50a-056416e9517b"
      },
      "execution_count": 33,
      "outputs": [
        {
          "output_type": "execute_result",
          "data": {
            "text/plain": [
              "latitude                    0\n",
              "longitude                   0\n",
              "housing_median_age          0\n",
              "total_rooms                 0\n",
              "total_bedrooms            157\n",
              "population                  0\n",
              "households                  0\n",
              "median_income               0\n",
              "log_median_house_value      0\n",
              "dtype: int64"
            ]
          },
          "metadata": {},
          "execution_count": 33
        }
      ]
    },
    {
      "cell_type": "markdown",
      "source": [
        "* total_bedrooms has 157 missing values."
      ],
      "metadata": {
        "id": "VrGCJs3Zusbh"
      }
    },
    {
      "cell_type": "markdown",
      "source": [
        "# **Basic Statistic Check**"
      ],
      "metadata": {
        "id": "kFPskxaUu0ZO"
      }
    },
    {
      "cell_type": "markdown",
      "source": [
        "02 .What's the median (50% percentile) for variable 'population'?\n",
        "\n"
      ],
      "metadata": {
        "id": "bvSReXFku5Pm"
      }
    },
    {
      "cell_type": "code",
      "source": [
        "data.describe()"
      ],
      "metadata": {
        "colab": {
          "base_uri": "https://localhost:8080/",
          "height": 320
        },
        "id": "-qHNYEk5uqLR",
        "outputId": "6a7f4494-327f-4cc8-e6bc-66f812fad019"
      },
      "execution_count": 34,
      "outputs": [
        {
          "output_type": "execute_result",
          "data": {
            "text/plain": [
              "           latitude     longitude  housing_median_age   total_rooms  \\\n",
              "count  15687.000000  15687.000000        15687.000000  15687.000000   \n",
              "mean      35.467307   -119.217442           27.188118   2665.677312   \n",
              "std        2.066387      1.780380           12.057128   2257.672743   \n",
              "min       32.610000   -124.140000            1.000000      2.000000   \n",
              "25%       33.940000   -121.070000           17.000000   1441.000000   \n",
              "50%       34.160000   -118.370000           27.000000   2118.000000   \n",
              "75%       37.340000   -117.990000           36.000000   3172.000000   \n",
              "max       41.950000   -114.310000           52.000000  39320.000000   \n",
              "\n",
              "       total_bedrooms    population    households  median_income  \\\n",
              "count    15530.000000  15687.000000  15687.000000   15687.000000   \n",
              "mean       541.244688   1466.317205    500.916491       3.804019   \n",
              "std        435.650018   1180.389908    392.759399       1.857158   \n",
              "min          2.000000      3.000000      2.000000       0.499900   \n",
              "25%        295.000000    802.000000    278.000000       2.520800   \n",
              "50%        432.000000   1195.000000    406.000000       3.468800   \n",
              "75%        645.000000   1777.000000    602.000000       4.686200   \n",
              "max       6445.000000  35682.000000   6082.000000      15.000100   \n",
              "\n",
              "       log_median_house_value  \n",
              "count            15687.000000  \n",
              "mean                12.010342  \n",
              "std                  0.564962  \n",
              "min                  9.615805  \n",
              "25%                 11.619994  \n",
              "50%                 12.025156  \n",
              "75%                 12.392971  \n",
              "max                 13.122367  "
            ],
            "text/html": [
              "\n",
              "  <div id=\"df-75a6108b-7853-4e5b-8d82-ba86bd2ea967\" class=\"colab-df-container\">\n",
              "    <div>\n",
              "<style scoped>\n",
              "    .dataframe tbody tr th:only-of-type {\n",
              "        vertical-align: middle;\n",
              "    }\n",
              "\n",
              "    .dataframe tbody tr th {\n",
              "        vertical-align: top;\n",
              "    }\n",
              "\n",
              "    .dataframe thead th {\n",
              "        text-align: right;\n",
              "    }\n",
              "</style>\n",
              "<table border=\"1\" class=\"dataframe\">\n",
              "  <thead>\n",
              "    <tr style=\"text-align: right;\">\n",
              "      <th></th>\n",
              "      <th>latitude</th>\n",
              "      <th>longitude</th>\n",
              "      <th>housing_median_age</th>\n",
              "      <th>total_rooms</th>\n",
              "      <th>total_bedrooms</th>\n",
              "      <th>population</th>\n",
              "      <th>households</th>\n",
              "      <th>median_income</th>\n",
              "      <th>log_median_house_value</th>\n",
              "    </tr>\n",
              "  </thead>\n",
              "  <tbody>\n",
              "    <tr>\n",
              "      <th>count</th>\n",
              "      <td>15687.000000</td>\n",
              "      <td>15687.000000</td>\n",
              "      <td>15687.000000</td>\n",
              "      <td>15687.000000</td>\n",
              "      <td>15530.000000</td>\n",
              "      <td>15687.000000</td>\n",
              "      <td>15687.000000</td>\n",
              "      <td>15687.000000</td>\n",
              "      <td>15687.000000</td>\n",
              "    </tr>\n",
              "    <tr>\n",
              "      <th>mean</th>\n",
              "      <td>35.467307</td>\n",
              "      <td>-119.217442</td>\n",
              "      <td>27.188118</td>\n",
              "      <td>2665.677312</td>\n",
              "      <td>541.244688</td>\n",
              "      <td>1466.317205</td>\n",
              "      <td>500.916491</td>\n",
              "      <td>3.804019</td>\n",
              "      <td>12.010342</td>\n",
              "    </tr>\n",
              "    <tr>\n",
              "      <th>std</th>\n",
              "      <td>2.066387</td>\n",
              "      <td>1.780380</td>\n",
              "      <td>12.057128</td>\n",
              "      <td>2257.672743</td>\n",
              "      <td>435.650018</td>\n",
              "      <td>1180.389908</td>\n",
              "      <td>392.759399</td>\n",
              "      <td>1.857158</td>\n",
              "      <td>0.564962</td>\n",
              "    </tr>\n",
              "    <tr>\n",
              "      <th>min</th>\n",
              "      <td>32.610000</td>\n",
              "      <td>-124.140000</td>\n",
              "      <td>1.000000</td>\n",
              "      <td>2.000000</td>\n",
              "      <td>2.000000</td>\n",
              "      <td>3.000000</td>\n",
              "      <td>2.000000</td>\n",
              "      <td>0.499900</td>\n",
              "      <td>9.615805</td>\n",
              "    </tr>\n",
              "    <tr>\n",
              "      <th>25%</th>\n",
              "      <td>33.940000</td>\n",
              "      <td>-121.070000</td>\n",
              "      <td>17.000000</td>\n",
              "      <td>1441.000000</td>\n",
              "      <td>295.000000</td>\n",
              "      <td>802.000000</td>\n",
              "      <td>278.000000</td>\n",
              "      <td>2.520800</td>\n",
              "      <td>11.619994</td>\n",
              "    </tr>\n",
              "    <tr>\n",
              "      <th>50%</th>\n",
              "      <td>34.160000</td>\n",
              "      <td>-118.370000</td>\n",
              "      <td>27.000000</td>\n",
              "      <td>2118.000000</td>\n",
              "      <td>432.000000</td>\n",
              "      <td>1195.000000</td>\n",
              "      <td>406.000000</td>\n",
              "      <td>3.468800</td>\n",
              "      <td>12.025156</td>\n",
              "    </tr>\n",
              "    <tr>\n",
              "      <th>75%</th>\n",
              "      <td>37.340000</td>\n",
              "      <td>-117.990000</td>\n",
              "      <td>36.000000</td>\n",
              "      <td>3172.000000</td>\n",
              "      <td>645.000000</td>\n",
              "      <td>1777.000000</td>\n",
              "      <td>602.000000</td>\n",
              "      <td>4.686200</td>\n",
              "      <td>12.392971</td>\n",
              "    </tr>\n",
              "    <tr>\n",
              "      <th>max</th>\n",
              "      <td>41.950000</td>\n",
              "      <td>-114.310000</td>\n",
              "      <td>52.000000</td>\n",
              "      <td>39320.000000</td>\n",
              "      <td>6445.000000</td>\n",
              "      <td>35682.000000</td>\n",
              "      <td>6082.000000</td>\n",
              "      <td>15.000100</td>\n",
              "      <td>13.122367</td>\n",
              "    </tr>\n",
              "  </tbody>\n",
              "</table>\n",
              "</div>\n",
              "    <div class=\"colab-df-buttons\">\n",
              "\n",
              "  <div class=\"colab-df-container\">\n",
              "    <button class=\"colab-df-convert\" onclick=\"convertToInteractive('df-75a6108b-7853-4e5b-8d82-ba86bd2ea967')\"\n",
              "            title=\"Convert this dataframe to an interactive table.\"\n",
              "            style=\"display:none;\">\n",
              "\n",
              "  <svg xmlns=\"http://www.w3.org/2000/svg\" height=\"24px\" viewBox=\"0 -960 960 960\">\n",
              "    <path d=\"M120-120v-720h720v720H120Zm60-500h600v-160H180v160Zm220 220h160v-160H400v160Zm0 220h160v-160H400v160ZM180-400h160v-160H180v160Zm440 0h160v-160H620v160ZM180-180h160v-160H180v160Zm440 0h160v-160H620v160Z\"/>\n",
              "  </svg>\n",
              "    </button>\n",
              "\n",
              "  <style>\n",
              "    .colab-df-container {\n",
              "      display:flex;\n",
              "      gap: 12px;\n",
              "    }\n",
              "\n",
              "    .colab-df-convert {\n",
              "      background-color: #E8F0FE;\n",
              "      border: none;\n",
              "      border-radius: 50%;\n",
              "      cursor: pointer;\n",
              "      display: none;\n",
              "      fill: #1967D2;\n",
              "      height: 32px;\n",
              "      padding: 0 0 0 0;\n",
              "      width: 32px;\n",
              "    }\n",
              "\n",
              "    .colab-df-convert:hover {\n",
              "      background-color: #E2EBFA;\n",
              "      box-shadow: 0px 1px 2px rgba(60, 64, 67, 0.3), 0px 1px 3px 1px rgba(60, 64, 67, 0.15);\n",
              "      fill: #174EA6;\n",
              "    }\n",
              "\n",
              "    .colab-df-buttons div {\n",
              "      margin-bottom: 4px;\n",
              "    }\n",
              "\n",
              "    [theme=dark] .colab-df-convert {\n",
              "      background-color: #3B4455;\n",
              "      fill: #D2E3FC;\n",
              "    }\n",
              "\n",
              "    [theme=dark] .colab-df-convert:hover {\n",
              "      background-color: #434B5C;\n",
              "      box-shadow: 0px 1px 3px 1px rgba(0, 0, 0, 0.15);\n",
              "      filter: drop-shadow(0px 1px 2px rgba(0, 0, 0, 0.3));\n",
              "      fill: #FFFFFF;\n",
              "    }\n",
              "  </style>\n",
              "\n",
              "    <script>\n",
              "      const buttonEl =\n",
              "        document.querySelector('#df-75a6108b-7853-4e5b-8d82-ba86bd2ea967 button.colab-df-convert');\n",
              "      buttonEl.style.display =\n",
              "        google.colab.kernel.accessAllowed ? 'block' : 'none';\n",
              "\n",
              "      async function convertToInteractive(key) {\n",
              "        const element = document.querySelector('#df-75a6108b-7853-4e5b-8d82-ba86bd2ea967');\n",
              "        const dataTable =\n",
              "          await google.colab.kernel.invokeFunction('convertToInteractive',\n",
              "                                                    [key], {});\n",
              "        if (!dataTable) return;\n",
              "\n",
              "        const docLinkHtml = 'Like what you see? Visit the ' +\n",
              "          '<a target=\"_blank\" href=https://colab.research.google.com/notebooks/data_table.ipynb>data table notebook</a>'\n",
              "          + ' to learn more about interactive tables.';\n",
              "        element.innerHTML = '';\n",
              "        dataTable['output_type'] = 'display_data';\n",
              "        await google.colab.output.renderOutput(dataTable, element);\n",
              "        const docLink = document.createElement('div');\n",
              "        docLink.innerHTML = docLinkHtml;\n",
              "        element.appendChild(docLink);\n",
              "      }\n",
              "    </script>\n",
              "  </div>\n",
              "\n",
              "\n",
              "<div id=\"df-754dd8d9-3e71-47a6-9223-9c7a8a40d4e0\">\n",
              "  <button class=\"colab-df-quickchart\" onclick=\"quickchart('df-754dd8d9-3e71-47a6-9223-9c7a8a40d4e0')\"\n",
              "            title=\"Suggest charts.\"\n",
              "            style=\"display:none;\">\n",
              "\n",
              "<svg xmlns=\"http://www.w3.org/2000/svg\" height=\"24px\"viewBox=\"0 0 24 24\"\n",
              "     width=\"24px\">\n",
              "    <g>\n",
              "        <path d=\"M19 3H5c-1.1 0-2 .9-2 2v14c0 1.1.9 2 2 2h14c1.1 0 2-.9 2-2V5c0-1.1-.9-2-2-2zM9 17H7v-7h2v7zm4 0h-2V7h2v10zm4 0h-2v-4h2v4z\"/>\n",
              "    </g>\n",
              "</svg>\n",
              "  </button>\n",
              "\n",
              "<style>\n",
              "  .colab-df-quickchart {\n",
              "      --bg-color: #E8F0FE;\n",
              "      --fill-color: #1967D2;\n",
              "      --hover-bg-color: #E2EBFA;\n",
              "      --hover-fill-color: #174EA6;\n",
              "      --disabled-fill-color: #AAA;\n",
              "      --disabled-bg-color: #DDD;\n",
              "  }\n",
              "\n",
              "  [theme=dark] .colab-df-quickchart {\n",
              "      --bg-color: #3B4455;\n",
              "      --fill-color: #D2E3FC;\n",
              "      --hover-bg-color: #434B5C;\n",
              "      --hover-fill-color: #FFFFFF;\n",
              "      --disabled-bg-color: #3B4455;\n",
              "      --disabled-fill-color: #666;\n",
              "  }\n",
              "\n",
              "  .colab-df-quickchart {\n",
              "    background-color: var(--bg-color);\n",
              "    border: none;\n",
              "    border-radius: 50%;\n",
              "    cursor: pointer;\n",
              "    display: none;\n",
              "    fill: var(--fill-color);\n",
              "    height: 32px;\n",
              "    padding: 0;\n",
              "    width: 32px;\n",
              "  }\n",
              "\n",
              "  .colab-df-quickchart:hover {\n",
              "    background-color: var(--hover-bg-color);\n",
              "    box-shadow: 0 1px 2px rgba(60, 64, 67, 0.3), 0 1px 3px 1px rgba(60, 64, 67, 0.15);\n",
              "    fill: var(--button-hover-fill-color);\n",
              "  }\n",
              "\n",
              "  .colab-df-quickchart-complete:disabled,\n",
              "  .colab-df-quickchart-complete:disabled:hover {\n",
              "    background-color: var(--disabled-bg-color);\n",
              "    fill: var(--disabled-fill-color);\n",
              "    box-shadow: none;\n",
              "  }\n",
              "\n",
              "  .colab-df-spinner {\n",
              "    border: 2px solid var(--fill-color);\n",
              "    border-color: transparent;\n",
              "    border-bottom-color: var(--fill-color);\n",
              "    animation:\n",
              "      spin 1s steps(1) infinite;\n",
              "  }\n",
              "\n",
              "  @keyframes spin {\n",
              "    0% {\n",
              "      border-color: transparent;\n",
              "      border-bottom-color: var(--fill-color);\n",
              "      border-left-color: var(--fill-color);\n",
              "    }\n",
              "    20% {\n",
              "      border-color: transparent;\n",
              "      border-left-color: var(--fill-color);\n",
              "      border-top-color: var(--fill-color);\n",
              "    }\n",
              "    30% {\n",
              "      border-color: transparent;\n",
              "      border-left-color: var(--fill-color);\n",
              "      border-top-color: var(--fill-color);\n",
              "      border-right-color: var(--fill-color);\n",
              "    }\n",
              "    40% {\n",
              "      border-color: transparent;\n",
              "      border-right-color: var(--fill-color);\n",
              "      border-top-color: var(--fill-color);\n",
              "    }\n",
              "    60% {\n",
              "      border-color: transparent;\n",
              "      border-right-color: var(--fill-color);\n",
              "    }\n",
              "    80% {\n",
              "      border-color: transparent;\n",
              "      border-right-color: var(--fill-color);\n",
              "      border-bottom-color: var(--fill-color);\n",
              "    }\n",
              "    90% {\n",
              "      border-color: transparent;\n",
              "      border-bottom-color: var(--fill-color);\n",
              "    }\n",
              "  }\n",
              "</style>\n",
              "\n",
              "  <script>\n",
              "    async function quickchart(key) {\n",
              "      const quickchartButtonEl =\n",
              "        document.querySelector('#' + key + ' button');\n",
              "      quickchartButtonEl.disabled = true;  // To prevent multiple clicks.\n",
              "      quickchartButtonEl.classList.add('colab-df-spinner');\n",
              "      try {\n",
              "        const charts = await google.colab.kernel.invokeFunction(\n",
              "            'suggestCharts', [key], {});\n",
              "      } catch (error) {\n",
              "        console.error('Error during call to suggestCharts:', error);\n",
              "      }\n",
              "      quickchartButtonEl.classList.remove('colab-df-spinner');\n",
              "      quickchartButtonEl.classList.add('colab-df-quickchart-complete');\n",
              "    }\n",
              "    (() => {\n",
              "      let quickchartButtonEl =\n",
              "        document.querySelector('#df-754dd8d9-3e71-47a6-9223-9c7a8a40d4e0 button');\n",
              "      quickchartButtonEl.style.display =\n",
              "        google.colab.kernel.accessAllowed ? 'block' : 'none';\n",
              "    })();\n",
              "  </script>\n",
              "</div>\n",
              "    </div>\n",
              "  </div>\n"
            ]
          },
          "metadata": {},
          "execution_count": 34
        }
      ]
    },
    {
      "cell_type": "markdown",
      "source": [
        "* The median (50% percentile) for variable 'population' - 1195 .\n",
        "\n"
      ],
      "metadata": {
        "id": "LXxU_rUru9Cu"
      }
    },
    {
      "cell_type": "markdown",
      "source": [
        "# **DataSet Preparation**"
      ],
      "metadata": {
        "id": "L1XYB4DbvC8L"
      }
    },
    {
      "cell_type": "markdown",
      "source": [
        "* Prepare and split the dataset\n",
        "* Shuffle the dataset (the filtered one you created above), use seed 42.\n",
        "* Split your data in train/val/test sets, with 60%/20%/20% distribution."
      ],
      "metadata": {
        "id": "tJnZyqE7vI_W"
      }
    },
    {
      "cell_type": "code",
      "source": [
        "n=len(data)\n",
        "n_train=int(0.6*n)\n",
        "n_val=int(0.2*n)\n",
        "n_test=n-(n_train+n_val)\n",
        "print(\"Train Samples\",n_train)\n",
        "print(\"Validation Samples\",n_val)\n",
        "print(\"Test Samples\",n_test)"
      ],
      "metadata": {
        "colab": {
          "base_uri": "https://localhost:8080/"
        },
        "id": "e1gda53hu4aj",
        "outputId": "b5fefa12-5360-40ab-89f5-1c9a8ae10537"
      },
      "execution_count": 35,
      "outputs": [
        {
          "output_type": "stream",
          "name": "stdout",
          "text": [
            "Train Samples 9412\n",
            "Validation Samples 3137\n",
            "Test Samples 3138\n"
          ]
        }
      ]
    },
    {
      "cell_type": "code",
      "source": [
        "np.random.seed(42)\n",
        "idx=np.arange(n)\n",
        "np.random.shuffle(idx)"
      ],
      "metadata": {
        "id": "d58_gpX0vkdQ"
      },
      "execution_count": 36,
      "outputs": []
    },
    {
      "cell_type": "code",
      "source": [
        "X=data.drop('log_median_house_value',axis=1)\n",
        "Y=data['log_median_house_value']"
      ],
      "metadata": {
        "id": "pdUo9FDGwk-O"
      },
      "execution_count": 37,
      "outputs": []
    },
    {
      "cell_type": "code",
      "source": [
        "x_train=X.iloc[idx[:n_train]]\n",
        "y_train=Y.iloc[idx[:n_train]]\n",
        "x_val= X.iloc[idx[n_train:n_train+n_val]]\n",
        "y_val= Y.iloc[idx[n_train:n_train+n_val]]\n",
        "x_test=X.iloc[idx[n_train+n_val:]]\n",
        "y_test=Y.iloc[idx[n_train+n_val:]]"
      ],
      "metadata": {
        "id": "hV15vBj6v7GF"
      },
      "execution_count": 38,
      "outputs": []
    },
    {
      "cell_type": "code",
      "source": [
        "print(\"Train Samples\",x_train.shape)\n",
        "print(\"Validation Samples\",x_val.shape)\n",
        "print(\"Test Samples\",x_test.shape)"
      ],
      "metadata": {
        "colab": {
          "base_uri": "https://localhost:8080/"
        },
        "id": "-brUbMVKv8Rg",
        "outputId": "b47bfb55-332a-4931-edf7-5be399dee66b"
      },
      "execution_count": 39,
      "outputs": [
        {
          "output_type": "stream",
          "name": "stdout",
          "text": [
            "Train Samples (9412, 8)\n",
            "Validation Samples (3137, 8)\n",
            "Test Samples (3138, 8)\n"
          ]
        }
      ]
    },
    {
      "cell_type": "markdown",
      "source": [
        "# **Missing Value Treatment**"
      ],
      "metadata": {
        "id": "f5tLQQmdxZ0W"
      }
    },
    {
      "cell_type": "markdown",
      "source": [
        "Question 3\n",
        "* We need to deal with missing values for the column from Q1.\n",
        "* We have two options: fill it with 0 or with the mean of this variable.\n",
        "* Try both options. For each, train a linear regression model without regularization using the code from the lessons.\n",
        "* For computing the mean, use the training only!\n",
        "* Use the validation dataset to evaluate the models and compare the RMSE of each option.\n",
        "* Round the RMSE scores to 2 decimal digits using round(score, 2)\n",
        "* Which option gives better RMSE?\n"
      ],
      "metadata": {
        "id": "y4rvyOK6xckW"
      }
    },
    {
      "cell_type": "markdown",
      "source": [
        "## **Model Defining**"
      ],
      "metadata": {
        "id": "SbWDUZjAxpLA"
      }
    },
    {
      "cell_type": "markdown",
      "source": [
        "* Here we will use 0 to fill missing values in both train and validation dataset and check its rmse score.\n",
        "* Defining RMSE metric and Linear Regression Model."
      ],
      "metadata": {
        "id": "QQYJw5NJyWRu"
      }
    },
    {
      "cell_type": "code",
      "source": [
        "def train_linear_regression(x,y):\n",
        "  ones=np.ones(shape=x.shape[0])\n",
        "  x=np.hstack((ones.reshape(-1,1),x))\n",
        "  XTX=np.dot(x.T,x)\n",
        "  XTX_inv=np.linalg.inv(XTX)\n",
        "  w_full=XTX_inv.dot(x.T).dot(y)\n",
        "  w0=w_full[0]\n",
        "  w=w_full[1:]\n",
        "  return w0,w"
      ],
      "metadata": {
        "id": "fCmCWDF-xPXw"
      },
      "execution_count": 53,
      "outputs": []
    },
    {
      "cell_type": "code",
      "source": [
        "def rmse(y,y_pred):\n",
        "  error=y-y_pred\n",
        "  se=error**2\n",
        "  sem=se.mean()\n",
        "  rmse=np.sqrt(sem)\n",
        "  return round(rmse,2)"
      ],
      "metadata": {
        "id": "tM2SyzyTzmkL"
      },
      "execution_count": 81,
      "outputs": []
    },
    {
      "cell_type": "markdown",
      "source": [
        "## **Filling 0 for missing values**"
      ],
      "metadata": {
        "id": "kE5foB-90HhU"
      }
    },
    {
      "cell_type": "markdown",
      "source": [
        "* As we know that total bedrooms has only null values."
      ],
      "metadata": {
        "id": "McQ_Bn-40b-9"
      }
    },
    {
      "cell_type": "code",
      "source": [
        "x_train_z = x_train.fillna(0).values\n",
        "x_val_z = x_val.fillna(0).values"
      ],
      "metadata": {
        "id": "b67g-lYX0Fia"
      },
      "execution_count": 82,
      "outputs": []
    },
    {
      "cell_type": "code",
      "source": [
        "w0,w=train_linear_regression(x_train_z,y_train)"
      ],
      "metadata": {
        "id": "zAVGwMMm1BU6"
      },
      "execution_count": 83,
      "outputs": []
    },
    {
      "cell_type": "code",
      "source": [
        "y_pred_train=w0+(x_train_z.dot(w))\n",
        "y_pred_val = w0+(x_val_z.dot(w))"
      ],
      "metadata": {
        "id": "LDpGRipAxSbo"
      },
      "execution_count": 84,
      "outputs": []
    },
    {
      "cell_type": "code",
      "source": [
        "print(\"Train RMSE\",rmse(y_train,y_pred_train))\n",
        "print(\"Val RMSE\",rmse(y_val,y_pred_val))"
      ],
      "metadata": {
        "colab": {
          "base_uri": "https://localhost:8080/"
        },
        "id": "eRndeDy9xwMH",
        "outputId": "28f24b21-b636-413c-972a-be4178457276"
      },
      "execution_count": 85,
      "outputs": [
        {
          "output_type": "stream",
          "name": "stdout",
          "text": [
            "Train RMSE 0.34\n",
            "Val RMSE 0.34\n"
          ]
        }
      ]
    },
    {
      "cell_type": "markdown",
      "source": [
        "## **Filling np.mean for missing values**\n",
        "\n",
        "\n"
      ],
      "metadata": {
        "id": "AU2sr2rVygQ_"
      }
    },
    {
      "cell_type": "code",
      "source": [
        "def mean_impute(x_train,x_val):\n",
        "  for col in x_train:\n",
        "    x_train[col]=x_train[col].fillna(x_train[col].mean())\n",
        "    x_val[col]=x_val[col].fillna(x_val[col].mean())\n",
        "  return x_train,x_val\n"
      ],
      "metadata": {
        "id": "Tzrct66Sze2B"
      },
      "execution_count": 86,
      "outputs": []
    },
    {
      "cell_type": "code",
      "source": [
        "x_train_m,x_val_m=mean_impute(x_train,x_val)"
      ],
      "metadata": {
        "id": "0Q2mow4_zGl2"
      },
      "execution_count": null,
      "outputs": []
    },
    {
      "cell_type": "code",
      "source": [
        "w0,w=train_linear_regression(x_train_m,y_train)\n",
        "y_pred_train=w0+(x_train_m.dot(w))\n",
        "y_pred_val = w0+(x_val_m.dot(w))\n",
        "print(\"Train RMSE\",rmse(y_train,y_pred_train))\n",
        "print(\"Val RMSE\",rmse(y_val,y_pred_val))"
      ],
      "metadata": {
        "colab": {
          "base_uri": "https://localhost:8080/"
        },
        "id": "le2eGQO30jG_",
        "outputId": "cca40e2d-5f1e-420e-e912-bf1ca05da9c7"
      },
      "execution_count": 88,
      "outputs": [
        {
          "output_type": "stream",
          "name": "stdout",
          "text": [
            "Train RMSE 0.34\n",
            "Val RMSE 0.34\n"
          ]
        }
      ]
    },
    {
      "cell_type": "markdown",
      "source": [
        "* Both methods of imputation produces same rmse score."
      ],
      "metadata": {
        "id": "JhlcYfKo0-zG"
      }
    },
    {
      "cell_type": "markdown",
      "source": [
        "# **Regularized Linear Regression**"
      ],
      "metadata": {
        "id": "ZvvB5ICN1CoW"
      }
    },
    {
      "cell_type": "markdown",
      "source": [
        "* Now let's train a regularized linear regression.\n",
        "* For this question, fill the NAs with 0.\n",
        "* Try different values of r from this list: [0, 0.000001, 0.0001, 0.001, 0.01, 0.1, 1, 5, 10].\n",
        "* Use RMSE to evaluate the model on the validation dataset.\n",
        "* Round the RMSE scores to 2 decimal digits.\n",
        "* Which r gives the best RMSE?\n",
        "* If there are multiple options, select the smallest r."
      ],
      "metadata": {
        "id": "544DE2e_1UVj"
      }
    },
    {
      "cell_type": "code",
      "source": [
        "def train_reg_linear_regression(x,y,r):\n",
        "  ones=np.ones(shape=x.shape[0])\n",
        "  x=np.hstack((ones.reshape(-1,1),x))\n",
        "  XTX=np.dot(x.T,x)\n",
        "  XTX= XTX+(r * np.eye(XTX.shape[0]))\n",
        "  XTX_inv=np.linalg.inv(XTX)\n",
        "  w_full=XTX_inv.dot(x.T).dot(y)\n",
        "  w0=w_full[0]\n",
        "  w=w_full[1:]\n",
        "  return w0,w"
      ],
      "metadata": {
        "id": "oHW433JZ0vxm"
      },
      "execution_count": 89,
      "outputs": []
    },
    {
      "cell_type": "code",
      "source": [
        "r=[0, 0.000001, 0.0001, 0.001, 0.01, 0.1, 1, 5, 10]\n",
        "for val in r:\n",
        "  w0,w=train_reg_linear_regression(x_train_z,y_train,val)\n",
        "  y_pred_val=w0+(x_val_z.dot(w))\n",
        "  print(\"R value: \",val,\" Rmse: \",rmse(y_val,y_pred_val))"
      ],
      "metadata": {
        "colab": {
          "base_uri": "https://localhost:8080/"
        },
        "id": "3kFzjP-Y2ZiY",
        "outputId": "bddcffc3-2d75-4ba3-c7b4-7925ce548f25"
      },
      "execution_count": 92,
      "outputs": [
        {
          "output_type": "stream",
          "name": "stdout",
          "text": [
            "R value:  0  Rmse:  0.34\n",
            "R value:  1e-06  Rmse:  0.34\n",
            "R value:  0.0001  Rmse:  0.34\n",
            "R value:  0.001  Rmse:  0.34\n",
            "R value:  0.01  Rmse:  0.34\n",
            "R value:  0.1  Rmse:  0.34\n",
            "R value:  1  Rmse:  0.34\n",
            "R value:  5  Rmse:  0.35\n",
            "R value:  10  Rmse:  0.35\n"
          ]
        }
      ]
    },
    {
      "cell_type": "markdown",
      "source": [
        "* 0 as regularization constant is better preforming"
      ],
      "metadata": {
        "id": "olMVC6QE3Slp"
      }
    },
    {
      "cell_type": "markdown",
      "source": [
        "# **Different Seed Values**"
      ],
      "metadata": {
        "id": "saGJwdYE56aq"
      }
    },
    {
      "cell_type": "markdown",
      "source": [
        "* Question 5\n",
        "* We used seed 42 for splitting the data. Let's find out how selecting the seed influences our score.\n",
        "* Try different seed values: [0, 1, 2, 3, 4, 5, 6, 7, 8, 9].\n",
        "* For each seed, do the train/validation/test split with 60%/20%/20% distribution.\n",
        "* Fill the missing values with 0 and train a model without regularization.\n",
        "* For each seed, evaluate the model on the validation dataset and collect the RMSE scores.\n",
        "* What's the standard deviation of all the scores? To compute the standard deviation, use np.std.\n",
        "* Round the result to 3 decimal digits (round(std, 3))\n",
        "What's the value of std?\n"
      ],
      "metadata": {
        "id": "818Y6B9T3hE3"
      }
    },
    {
      "cell_type": "code",
      "source": [
        "def try_diff_seed(seed):\n",
        " np.random.seed(seed)\n",
        " idx=np.arange(n)\n",
        " np.random.shuffle(idx)\n",
        " X=data.drop('log_median_house_value',axis=1)\n",
        " Y=data['log_median_house_value']\n",
        " x_train=X.iloc[idx[:n_train]]\n",
        " y_train=Y.iloc[idx[:n_train]]\n",
        " x_val= X.iloc[idx[n_train:n_train+n_val]]\n",
        " y_val= Y.iloc[idx[n_train:n_train+n_val]]\n",
        " x_test=X.iloc[idx[n_train+n_val:]]\n",
        " y_test=Y.iloc[idx[n_train+n_val:]]\n",
        " return x_train,y_train,x_val,y_val,x_test,y_test"
      ],
      "metadata": {
        "id": "wglJ0E3s299P"
      },
      "execution_count": 103,
      "outputs": []
    },
    {
      "cell_type": "code",
      "source": [
        "seeds=[0, 1, 2, 3, 4, 5, 6, 7, 8, 9]\n",
        "std_values=[]\n",
        "for val in seeds:\n",
        "  x_train_s,y_train_s,x_val_s,y_val_s,_,_=try_diff_seed(val)\n",
        "  x_train_z=x_train_s.fillna(0).values\n",
        "  x_val_z=x_val_s.fillna(0).values\n",
        "  w0,w=train_linear_regression(x_train_z,y_train_s)\n",
        "  y_pred_val=w0+(x_val_z.dot(w))\n",
        "  rmse_val=rmse(y_val_s,y_pred_val)\n",
        "  print(\"Seed: \",val,\" Rmse: \",rmse_val)\n",
        "  std_values.append(rmse_val)\n",
        "print(\"Standard Deviation\",round(np.std(std_values),3))"
      ],
      "metadata": {
        "colab": {
          "base_uri": "https://localhost:8080/"
        },
        "id": "MAN9twh04J5-",
        "outputId": "03458291-2f70-42ba-cff1-1c1f601d841a"
      },
      "execution_count": 104,
      "outputs": [
        {
          "output_type": "stream",
          "name": "stdout",
          "text": [
            "Seed:  0  Rmse:  0.34\n",
            "Seed:  1  Rmse:  0.34\n",
            "Seed:  2  Rmse:  0.34\n",
            "Seed:  3  Rmse:  0.33\n",
            "Seed:  4  Rmse:  0.34\n",
            "Seed:  5  Rmse:  0.34\n",
            "Seed:  6  Rmse:  0.34\n",
            "Seed:  7  Rmse:  0.35\n",
            "Seed:  8  Rmse:  0.35\n",
            "Seed:  9  Rmse:  0.33\n",
            "Standard Deviation 0.006\n"
          ]
        }
      ]
    },
    {
      "cell_type": "markdown",
      "source": [
        "* Standard deviation shows how different the values are.\n",
        "* If it's low, then all values are approximately the same. If it's high, the values are different.\n",
        "* If standard deviation of scores is low, then our model is stable.\n",
        "\n"
      ],
      "metadata": {
        "id": "UCorLfh25sjO"
      }
    },
    {
      "cell_type": "markdown",
      "source": [
        "# **Regularized Linear with Seed 9**"
      ],
      "metadata": {
        "id": "TrsrcmtF5xuZ"
      }
    },
    {
      "cell_type": "markdown",
      "source": [
        "* Question 6\n",
        "* Split the dataset like previously, use seed 9.\n",
        "* Combine train and validation datasets.\n",
        "* Fill the missing values with 0 and train a model with r=0.001.\n",
        "* What's the RMSE on the test dataset?\n"
      ],
      "metadata": {
        "id": "aAKYu11c59Bl"
      }
    },
    {
      "cell_type": "code",
      "source": [
        "x_train_s,y_train_s,_,_,x_test_s,y_test_s=try_diff_seed(9)\n",
        "x_train_z=x_train_s.fillna(0).values\n",
        "x_test_z=x_test_s.fillna(0).values\n",
        "w0,w=train_reg_linear_regression(x_train_z,y_train_s,0.001)\n",
        "y_pred_val=w0+(x_test_z.dot(w))\n",
        "rmse_val=rmse(y_test_s,y_pred_val)\n",
        "print(\"Rmse: \",rmse_val)"
      ],
      "metadata": {
        "colab": {
          "base_uri": "https://localhost:8080/"
        },
        "id": "kZhJ69Zb47bF",
        "outputId": "96433d20-8620-473d-bfe3-1edc5f87886a"
      },
      "execution_count": 106,
      "outputs": [
        {
          "output_type": "stream",
          "name": "stdout",
          "text": [
            "Rmse:  0.33\n"
          ]
        }
      ]
    }
  ]
}